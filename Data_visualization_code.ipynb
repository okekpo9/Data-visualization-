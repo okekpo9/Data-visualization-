{
 "cells": [
  {
   "cell_type": "markdown",
   "id": "c7941198-86ea-4470-9f2b-cc0898053f06",
   "metadata": {},
   "source": [
    "<!-- the assignment code -->"
   ]
  },
  {
   "cell_type": "code",
   "execution_count": null,
   "id": "25c23123-af9e-4ce2-837f-b227b380db65",
   "metadata": {},
   "outputs": [],
   "source": [
    "# import necccesary libraries\n",
    "import pandas as pd\n",
    "import matplotlib.pyplot as plt\n",
    "import seaborn as sns \n",
    "\n",
    "# load the assignment dataset\n"
   ]
  },
  {
   "cell_type": "markdown",
   "id": "e48a25d2-8da4-4b12-a653-8e0a4bf5eabd",
   "metadata": {},
   "source": [
    "<!--  Exploratory Data Analyses-->"
   ]
  },
  {
   "cell_type": "markdown",
   "id": "07a54999-674d-4ac3-85f9-f2e40dfc9f42",
   "metadata": {},
   "source": [
    "<!-- ploting the visual graph -->"
   ]
  },
  {
   "cell_type": "code",
   "execution_count": null,
   "id": "a23ebfe6-a8f2-4f36-bcc7-e030ce660225",
   "metadata": {},
   "outputs": [],
   "source": [
    "plt.figure(figsize=(6,4))\n",
    "sns.countplot(x='sex', data=data)\n",
    "plt.title('Sex Distribution')\n",
    "plt.xlabel('Sex')\n",
    "plt.ylabel('Count')\n",
    "plt.savefig('Sex Distribution.png')\n",
    "plt.show()"
   ]
  },
  {
   "cell_type": "code",
   "execution_count": null,
   "id": "e3235699-2bb0-402e-994e-f80998900c87",
   "metadata": {},
   "outputs": [],
   "source": [
    "plt.figure(figsize=(8,6))\n",
    "sns.countplot(x='chest pain type', data=data)\n",
    "plt.title('Chest Pain Type Distribution')\n",
    "plt.xlabel('Chest Pain Type')\n",
    "plt.savefig('Chest Pain Type Distribution.png')\n",
    "\n",
    "plt.ylabel('Count')\n",
    "\n",
    "plt.show()\n"
   ]
  },
  {
   "cell_type": "code",
   "execution_count": null,
   "id": "64bff468-e4b2-495a-b632-a5ab4ddd09fd",
   "metadata": {},
   "outputs": [],
   "source": [
    "plt.figure(figsize=(6,4))\n",
    "sns.countplot(x='exercise angina', data=data)\n",
    "plt.title('Exercise Induced Angina Distribution')\n",
    "plt.xlabel('Exercise Induced Angina')\n",
    "plt.savefig('Exercise Induced Angina Distribution.png')\n",
    "\n",
    "plt.ylabel('Count')\n",
    "plt.show()\n"
   ]
  },
  {
   "cell_type": "code",
   "execution_count": null,
   "id": "2b62982d-ce53-4ea7-998e-d606dc0f1e33",
   "metadata": {},
   "outputs": [],
   "source": [
    "# getting the age distribution\n",
    "sns.histplot(x = \"age\",  data = data, kde=True, bins = 30)\n",
    "plt.title( \"age distribution in the data set\")\n",
    "plt.savefig(\"age distribution in the data set\")\n",
    "plt.show()"
   ]
  },
  {
   "cell_type": "code",
   "execution_count": null,
   "id": "0b06c492-32e9-4c9f-9637-6e3456b01ffe",
   "metadata": {},
   "outputs": [],
   "source": [
    "plt.figure(figsize=(6,4))\n",
    "sns.countplot(x='resting ecg', data=data)\n",
    "plt.title('Resting Electrocardiogram Result Distribution')\n",
    "plt.xlabel('Resting Electrocardiogram Result')\n",
    "plt.ylabel('Count')\n",
    "plt.savefig(\"Resting Electrocardiogram Result\")\n",
    "plt.show()"
   ]
  },
  {
   "cell_type": "code",
   "execution_count": null,
   "id": "bcb84aa4-7df9-4ced-8bb2-a9624f43069d",
   "metadata": {},
   "outputs": [],
   "source": [
    "plt.figure(figsize=(10,6))\n",
    "sns.histplot(data['max heart rate'], bins=20, kde=True)\n",
    "plt.title('Maximum Heart Rate Achieved Distribution')\n",
    "plt.xlabel('Maximum Heart Rate Achieved')\n",
    "plt.ylabel('Count')\n",
    "plt.savefig(\"Maximum Heart Rate Achieved\")\n",
    "plt.show()"
   ]
  },
  {
   "cell_type": "code",
   "execution_count": null,
   "id": "c780330b-6807-463d-afb2-c70ff36cd726",
   "metadata": {},
   "outputs": [],
   "source": [
    "plt.figure(figsize=(6,4))\n",
    "sns.countplot(x='fasting blood sugar', data=data)\n",
    "plt.title('Fasting Blood Sugar Distribution')\n",
    "plt.xlabel('Fasting Blood Sugar')\n",
    "plt.ylabel('Count')\n",
    "plt.savefig(\"Fasting Blood Sugar Distribution\")\n",
    "plt.show()\n"
   ]
  },
  {
   "cell_type": "code",
   "execution_count": null,
   "id": "1f934294-6e89-4332-94af-7e368b0398fd",
   "metadata": {},
   "outputs": [],
   "source": [
    "plt.figure(figsize=(10,6))\n",
    "sns.histplot(data['cholesterol'], bins=20, kde=True)\n",
    "plt.title('Serum Cholesterol Distribution')\n",
    "plt.xlabel('Serum Cholesterol')\n",
    "plt.ylabel('Count')\n",
    "plt.savefig(\"Serum Cholesterol Distribution\")\n",
    "plt.show()\n"
   ]
  },
  {
   "cell_type": "code",
   "execution_count": null,
   "id": "db01e7e2-eb37-4256-8c77-f0b65e14ae8a",
   "metadata": {},
   "outputs": [],
   "source": [
    "plt.figure(figsize=(10,6))\n",
    "sns.histplot(data['resting bp s'], bins=20, kde=True)\n",
    "plt.title('Resting Blood Pressure Distribution')\n",
    "plt.xlabel('Resting Blood Pressure')\n",
    "plt.ylabel('Count')\n",
    "plt.savefig(\"Resting Blood Pressure Distribution\")\n",
    "plt.show()"
   ]
  },
  {
   "cell_type": "code",
   "execution_count": null,
   "id": "71868c51-57ea-4099-adc3-c7b3223eda9a",
   "metadata": {},
   "outputs": [],
   "source": [
    "sns.scatterplot(data = data, x = \"age\", y = \"max heart rate\", hue = \"target\", palette = \"icefire\" )\n",
    "plt.title( \" distribution of max heart rate by the target(Heart disease) \")\n",
    "plt.savefig('distribution of max heart rate by the target(Heart disease).png')\n",
    "plt.show()"
   ]
  },
  {
   "cell_type": "code",
   "execution_count": null,
   "id": "9b65a80d-a397-4bee-b311-e903b4f5e566",
   "metadata": {},
   "outputs": [],
   "source": [
    "# Scatter plot of Age vs. Maximum Heart Rate Achieved\n",
    "plt.figure(figsize=(8, 6))\n",
    "sns.scatterplot(x='age', y='max heart rate', data=data, hue = \"sex\")\n",
    "plt.title('Age vs. Maximum Heart Rate Achieved')\n",
    "plt.xlabel('Age')\n",
    "plt.ylabel('Maximum Heart Rate Achieved')\n",
    "plt.savefig(\"Age vs. Maximum Heart Rate Achieved.png\")\n",
    "plt.show()"
   ]
  },
  {
   "cell_type": "code",
   "execution_count": null,
   "id": "1d964d59-646e-43bb-8a0c-b5d8ada09c1a",
   "metadata": {},
   "outputs": [],
   "source": [
    "plt.figure(figsize=(8, 6))\n",
    "sns.regplot(x='age', y='max heart rate', data=data)\n",
    "plt.title('Age vs. Maximum Heart Rate Achieved')\n",
    "plt.xlabel('Age')\n",
    "plt.ylabel('Maximum Heart Rate Achieved')\n",
    "plt.savefig(\"Scatter plot with Regression Line.png\")\n",
    "plt.show()"
   ]
  },
  {
   "cell_type": "code",
   "execution_count": null,
   "id": "d2833c41-b7ed-4057-b71d-4a6545d9bfe8",
   "metadata": {},
   "outputs": [],
   "source": [
    "data.corr()"
   ]
  },
  {
   "cell_type": "code",
   "execution_count": null,
   "id": "f2c3b22b-4088-4b71-a3fa-80b313cfd57b",
   "metadata": {},
   "outputs": [],
   "source": [
    "plt.figure(figsize=(10, 8))\n",
    "sns.heatmap(data.corr(), annot=True, cmap='coolwarm', fmt=\".2f\")\n",
    "plt.title('Correlation Matrix Heatmap')\n",
    "plt.savefig(\"Correlation Matrix Heatmap\")\n",
    "plt.show()"
   ]
  },
  {
   "cell_type": "code",
   "execution_count": null,
   "id": "68ebedd8-203f-49f1-abcd-595750af50db",
   "metadata": {},
   "outputs": [],
   "source": [
    "g = sns.FacetGrid(data, col=\"sex\", hue=\"target\", height=5)\n",
    "g.map(sns.scatterplot, \"age\", \"max heart rate\", alpha=.7)\n",
    "g.add_legend()\n",
    "plt.title(\"FacetGrid for Heart Condition vs. Age and Sex\")\n",
    "plt.savefig(\"FacetGrid for Heart Condition vs. Age and Sex.png\")\n",
    "plt.show()"
   ]
  },
  {
   "cell_type": "code",
   "execution_count": null,
   "id": "f6b9c983-f304-4366-a127-e5002c1ec38c",
   "metadata": {},
   "outputs": [],
   "source": [
    "data['sex'].value_counts().plot.pie(autopct='%.2f')\n",
    "plt.title(\"Pie chart of male population to the female \")\n",
    "plt.savefig(\"Pie chart of male population to the female.png\")"
   ]
  },
  {
   "cell_type": "code",
   "execution_count": null,
   "id": "e6f270ec-dc1c-4ebb-978e-1ec7e82b1f88",
   "metadata": {},
   "outputs": [],
   "source": [
    "sns.jointplot(x='age', y='max heart rate', kind='hex', data=data)\n",
    "\n",
    "plt.savefig(\"jointplot with Hexbin for Age and Maximum Heart Rate Achieved\")\n",
    "plt.show()"
   ]
  },
  {
   "cell_type": "code",
   "execution_count": null,
   "id": "d0471594-f89e-4b7c-ab5a-a6ac7e8735c9",
   "metadata": {},
   "outputs": [],
   "source": [
    "g = sns.FacetGrid(data, col=\"sex\", row=\"chest pain type\", hue=\"target\", height=3)\n",
    "g.map(sns.scatterplot, \"age\", \"max heart rate\")\n",
    "plt.savefig(\"FacetGrid for Heart Condition vs. Multiple Variables.png\")\n",
    "plt.show()"
   ]
  }
 ],
 "metadata": {
  "kernelspec": {
   "display_name": "Python 3 (ipykernel)",
   "language": "python",
   "name": "python3"
  },
  "language_info": {
   "codemirror_mode": {
    "name": "ipython",
    "version": 3
   },
   "file_extension": ".py",
   "mimetype": "text/x-python",
   "name": "python",
   "nbconvert_exporter": "python",
   "pygments_lexer": "ipython3",
   "version": "3.11.0"
  }
 },
 "nbformat": 4,
 "nbformat_minor": 5
}
